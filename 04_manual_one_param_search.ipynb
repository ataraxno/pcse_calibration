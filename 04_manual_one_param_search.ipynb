{
 "cells": [
  {
   "cell_type": "code",
   "execution_count": 1,
   "id": "5b6ced84-3e57-45db-93e0-f5d3b29cab3a",
   "metadata": {},
   "outputs": [],
   "source": [
    "%matplotlib inline\n",
    "from setting.matplotlib_ import *\n",
    "from setting.tools import *"
   ]
  },
  {
   "cell_type": "code",
   "execution_count": 2,
   "id": "b1668fef-a8e4-4c00-8e58-b4feefd36300",
   "metadata": {},
   "outputs": [
    {
     "name": "stdout",
     "output_type": "stream",
     "text": [
      "This notebook was built with:\n",
      "python version: 3.9.7 (default, Sep 16 2021, 13:09:58) \n",
      "[GCC 7.5.0] \n",
      "PCSE version: 5.5.0\n"
     ]
    }
   ],
   "source": [
    "print(\"This notebook was built with:\")\n",
    "print(\"python version: %s \" % sys.version)\n",
    "print(\"PCSE version: %s\" %  pcse.__version__)"
   ]
  },
  {
   "cell_type": "markdown",
   "id": "84dfc158-7a17-4399-87eb-53b9c38d08c7",
   "metadata": {},
   "source": [
    "## Loading environment data"
   ]
  },
  {
   "cell_type": "code",
   "execution_count": 3,
   "id": "489a30e5-0e8c-4461-8ccd-2f55bae795e9",
   "metadata": {},
   "outputs": [],
   "source": [
    "target_env = pd.read_csv('./data/pap_env_RDA_open.csv', skiprows=1, header=None)\n",
    "target_env.loc[:, 0] = pd.DatetimeIndex(target_env.loc[:, 0])\n",
    "template = pd.read_excel('./data/data_template.xls', header=None)"
   ]
  },
  {
   "cell_type": "code",
   "execution_count": 4,
   "id": "b495202d-c6a4-475c-9afe-a809e584c9a0",
   "metadata": {},
   "outputs": [],
   "source": [
    "target_env = pd.concat([template.loc[:11], target_env], axis=0)"
   ]
  },
  {
   "cell_type": "code",
   "execution_count": 5,
   "id": "4e725aa7-5076-47e1-84fd-8469733152bd",
   "metadata": {},
   "outputs": [
    {
     "name": "stderr",
     "output_type": "stream",
     "text": [
      "/tmp/ipykernel_256749/2866564418.py:1: FutureWarning: As the xlwt package is no longer maintained, the xlwt engine will be removed in a future version of pandas. This is the only engine in pandas that supports writing in the xls format. Install openpyxl and write to an xlsx file instead. You can set the option io.excel.xls.writer to 'xlwt' to silence this warning. While this option is deprecated and will also raise a warning, it can be globally set and the warning suppressed.\n",
      "  target_env.to_excel('./data/pap_env_processed.xls', index=False, header=False)\n"
     ]
    }
   ],
   "source": [
    "target_env.to_excel('./data/pap_env_processed.xls', index=False, header=False)"
   ]
  },
  {
   "cell_type": "markdown",
   "id": "7a9e6c52-812f-4785-a801-161769af97bc",
   "metadata": {},
   "source": [
    "## Loading growth data"
   ]
  },
  {
   "cell_type": "code",
   "execution_count": 6,
   "id": "aad9be37-96a7-4682-8955-c9a2b36c2226",
   "metadata": {},
   "outputs": [],
   "source": [
    "target_output = pd.read_csv(f'./data/pap_grw_RDA_open.csv', index_col='date')\n",
    "target_output['LAI'] = (target_output['lefCunt']*target_output['lefLt']*target_output['lefBt'])/1000\n",
    "target_output.index = pd.DatetimeIndex(target_output.index)"
   ]
  },
  {
   "cell_type": "code",
   "execution_count": 7,
   "id": "c89d4dd2-74b1-4aca-898e-6476f8617e29",
   "metadata": {},
   "outputs": [],
   "source": [
    "target_output.loc[target_output['LAI'] == 0, 'LAI'] = np.nan\n",
    "target_output.loc[:, 'LAI'] = target_output.loc[:, 'LAI'].ffill()\n",
    "target_output = target_output.loc[~target_output.loc[:, 'LAI'].isna()]"
   ]
  },
  {
   "cell_type": "code",
   "execution_count": 8,
   "id": "1bd1d0ce-42ce-4979-ae8b-64addd3c135a",
   "metadata": {},
   "outputs": [],
   "source": [
    "target_output = target_output.loc[:, ['LAI', 'cum_harvest']]\n",
    "target_output.columns = ['LAI', 'TWSO']"
   ]
  },
  {
   "cell_type": "code",
   "execution_count": 9,
   "id": "b1145a96-173b-4821-8e48-baeb5f8aa893",
   "metadata": {
    "tags": []
   },
   "outputs": [
    {
     "name": "stdout",
     "output_type": "stream",
     "text": [
      "from 2018-03-23 to 2018-09-21: 182 days\n"
     ]
    }
   ],
   "source": [
    "CROP_NAME = 'soybean'\n",
    "VARIETY_NAME = 'Soybean_906'\n",
    "START_DATE = str(pd.Timestamp('2018-03-23').date()) # starting date was deleted because of dropna\n",
    "END_DATE = str(target_output.index[-1].date())\n",
    "CULT_PERIOD = (pd.Timestamp(END_DATE)- pd.Timestamp(START_DATE)).days\n",
    "print(f'from {START_DATE} to {END_DATE}: {CULT_PERIOD} days')"
   ]
  },
  {
   "cell_type": "markdown",
   "id": "0c4206fe-6262-402c-87b3-7e0542f12238",
   "metadata": {},
   "source": [
    "## Input data for WOFOST"
   ]
  },
  {
   "cell_type": "code",
   "execution_count": 10,
   "id": "83494e56-ff57-442c-927b-26ddc6087d56",
   "metadata": {
    "scrolled": true
   },
   "outputs": [],
   "source": [
    "cropd = YAMLCropDataProvider()\n",
    "soild = DummySoilDataProvider()\n",
    "sited = WOFOST72SiteDataProvider(WAV=50, CO2=360.)\n",
    "params = ParameterProvider(cropdata=cropd, sitedata=sited, soildata=soild)"
   ]
  },
  {
   "cell_type": "code",
   "execution_count": 11,
   "id": "78a45f11-c09e-4a15-8a24-65c096389384",
   "metadata": {},
   "outputs": [],
   "source": [
    "# Agromanagement for the custom data\n",
    "agro_yaml = f\"\"\"\n",
    "- {START_DATE}:\n",
    "    CropCalendar:\n",
    "        crop_name: {CROP_NAME}\n",
    "        variety_name: {VARIETY_NAME}\n",
    "        crop_start_date: {START_DATE}\n",
    "        crop_start_type: emergence\n",
    "        crop_end_date: {END_DATE}\n",
    "        max_duration: {CULT_PERIOD}\n",
    "    TimedEvents: null\n",
    "    StateEvents: null\n",
    "\"\"\"\n",
    "agro = yaml.load(agro_yaml, Loader=yaml.FullLoader)"
   ]
  },
  {
   "cell_type": "code",
   "execution_count": 12,
   "id": "c3ef087a-eb41-40f9-b2a4-f160c6cd3d61",
   "metadata": {},
   "outputs": [],
   "source": [
    "wdp = ExcelWeatherDataProvider('./data/pap_env_processed.xls')"
   ]
  },
  {
   "cell_type": "markdown",
   "id": "3e65a307-1ad0-4ef3-91af-9616a3e27a02",
   "metadata": {},
   "source": [
    "## WOFOST Initialization"
   ]
  },
  {
   "cell_type": "code",
   "execution_count": 13,
   "id": "1e84bf32-ef7b-4576-9aa0-b274868da48a",
   "metadata": {},
   "outputs": [],
   "source": [
    "wofost = Wofost72_PP(params, wdp, agro)\n",
    "wofost.run_till_terminate()"
   ]
  },
  {
   "cell_type": "markdown",
   "id": "196cf8e7-b72d-4bc3-a138-8299e5e771b7",
   "metadata": {},
   "source": [
    "## Parameter selection"
   ]
  },
  {
   "cell_type": "code",
   "execution_count": 14,
   "id": "6abd3417-982b-4421-a62c-c23ef65b7963",
   "metadata": {},
   "outputs": [],
   "source": [
    "fixed_params = {'TBASE':18, 'SPAN':400}"
   ]
  },
  {
   "cell_type": "markdown",
   "id": "b99ce60a-07f9-48ec-a267-ea2408bbb73a",
   "metadata": {},
   "source": [
    "이미 알고 있는 파라미터를 고정할 수 있습니다."
   ]
  },
  {
   "cell_type": "code",
   "execution_count": 15,
   "id": "e21949ba-d110-4c1a-a6a8-4468dac2e7d1",
   "metadata": {},
   "outputs": [],
   "source": [
    "target_param = 'TDWI'\n",
    "target_obj = ['TWSO', 'LAI']\n",
    "params_range = [0, 2000]\n",
    "step_size = 200\n",
    "for_params = np.linspace(params_range[0], params_range[-1], int(params_range[-1]/step_size)+1)"
   ]
  },
  {
   "cell_type": "code",
   "execution_count": 16,
   "id": "31986ad1-04b7-44df-b1d4-7d0190e95810",
   "metadata": {},
   "outputs": [],
   "source": [
    "# target_param = 'AMAXTB'\n",
    "# target_obj = ['TWSO', 'LAI']\n",
    "# params_range = [0, 100]\n",
    "# step_size = 20\n",
    "\n",
    "# temp_list = np.linspace(params_range[0], params_range[-1], int(params_range[-1]/step_size)+1)\n",
    "# for_params = []\n",
    "# for _ in temp_list:\n",
    "#     for_params.append([0.0, _, 2.0, _])"
   ]
  },
  {
   "cell_type": "markdown",
   "id": "b434a043-d9d3-4ae2-b71d-bcb1988e6e79",
   "metadata": {},
   "source": [
    "목표로 하는 파라미터를 설정하고, 탐색하고자 하는 범위와 간격을 정합니다."
   ]
  },
  {
   "cell_type": "code",
   "execution_count": 17,
   "id": "29582def-8d1e-45cf-83eb-0c0d524b4635",
   "metadata": {},
   "outputs": [],
   "source": [
    "origin_value = {}\n",
    "origin_value[target_param] = params._cropdata[target_param]"
   ]
  },
  {
   "cell_type": "markdown",
   "id": "406b5056-0747-4a15-b022-b258fcc86348",
   "metadata": {},
   "source": [
    "# Repeat"
   ]
  },
  {
   "cell_type": "code",
   "execution_count": 18,
   "id": "2a938087-03cd-4fa4-943b-f9e6e74a8391",
   "metadata": {
    "scrolled": true,
    "tags": []
   },
   "outputs": [
    {
     "name": "stdout",
     "output_type": "stream",
     "text": [
      "For TDWI: 0-2000 for 200\n"
     ]
    }
   ],
   "source": [
    "twso_result = []\n",
    "lai_result = []\n",
    "losses = []\n",
    "print(f'For {target_param}: {params_range[0]}-{params_range[-1]} for {step_size}')\n",
    "for PARAM in for_params:\n",
    "    objfunc_calculator = ObjectiveFunctionCalculator([target_param], target_obj, params, wdp, agro, target_output)\n",
    "    _ = objfunc_calculator({target_param: PARAM})\n",
    "\n",
    "    twso_result.append(objfunc_calculator.df_sim.TWSO)\n",
    "    lai_result.append(objfunc_calculator.df_sim.LAI)\n",
    "    losses.append(objfunc_calculator.loss)\n",
    "    gc.collect()"
   ]
  },
  {
   "cell_type": "code",
   "execution_count": 19,
   "id": "efc0924f-4419-4dd5-9237-080d8ea813a8",
   "metadata": {},
   "outputs": [],
   "source": [
    "losses = np.array(losses)\n",
    "sorted_index = np.argsort(losses)"
   ]
  },
  {
   "cell_type": "code",
   "execution_count": 20,
   "id": "206d2680-a016-427d-b06c-10834f9965cb",
   "metadata": {},
   "outputs": [],
   "source": [
    "twso_result = pd.concat(twso_result, axis=1)\n",
    "lai_result = pd.concat(lai_result, axis=1)"
   ]
  },
  {
   "cell_type": "code",
   "execution_count": 21,
   "id": "b70894cd-93ce-4517-90b8-4e7dcfecf927",
   "metadata": {
    "tags": []
   },
   "outputs": [
    {
     "data": {
      "image/png": "[encoded data removed]",
      "text/plain": [
       "<Figure size 453.543x306.142 with 1 Axes>"
      ]
     },
     "metadata": {
      "needs_background": "light"
     },
     "output_type": "display_data"
    }
   ],
   "source": [
    "fig = plt.figure(figsize=((8/2.54*2), (6/2.54*1.8)))\n",
    "ax = plt.subplot()\n",
    "ax.spines['right'].set_visible(False)\n",
    "ax.spines['left'].set_position(('outward', 10))\n",
    "ax.spines['bottom'].set_position(('outward', 5))\n",
    "\n",
    "obs, = ax.plot(target_output.index, target_output.TWSO, 'o', ms=5, mew=0.5, mec='k', c='k')\n",
    "for i in range(twso_result.shape[1]):\n",
    "    opt, = ax.plot(twso_result.index, twso_result.iloc[:, i], c=cmap[0], alpha=(i+1)/twso_result.shape[1])\n",
    "_ = objfunc_calculator(origin_value)\n",
    "ori, = ax.plot(objfunc_calculator.df_sim.index, objfunc_calculator.df_sim.TWSO, \"--\", c='gray')\n",
    "\n",
    "ax.xaxis.set_major_formatter(mdates.DateFormatter('%b'))\n",
    "ax.xaxis.set_major_locator(LinearLocator(12))\n",
    "ax.yaxis.set_major_locator(LinearLocator(6))\n",
    "ax.yaxis.set_minor_locator(LinearLocator(11))\n",
    "ax.set_xlabel('Month')\n",
    "ax.set_ylabel('Harvest')\n",
    "\n",
    "plt.legend(handles=[obs, opt, ori], labels=['Observed', 'Optimized', 'Original'], frameon=False, loc=0)\n",
    "fig.tight_layout()\n",
    "plt.show()"
   ]
  },
  {
   "cell_type": "code",
   "execution_count": 22,
   "id": "9dd1ed7c-5118-4255-8861-823752052980",
   "metadata": {
    "tags": []
   },
   "outputs": [
    {
     "data": {
      "image/png": "[encoded data removed]",
      "text/plain": [
       "<Figure size 453.543x306.142 with 1 Axes>"
      ]
     },
     "metadata": {
      "needs_background": "light"
     },
     "output_type": "display_data"
    }
   ],
   "source": [
    "fig = plt.figure(figsize=((8/2.54*2), (6/2.54*1.8)))\n",
    "ax = plt.subplot()\n",
    "ax.spines['right'].set_visible(False)\n",
    "ax.spines['left'].set_position(('outward', 10))\n",
    "ax.spines['bottom'].set_position(('outward', 5))\n",
    "\n",
    "obs, = ax.plot(target_output.index, target_output.LAI, 'o', ms=5, mew=0.5, mec='k', c='k')\n",
    "for i in range(lai_result.shape[1]):\n",
    "    opt, = ax.plot(lai_result.index, lai_result.iloc[:, i], c=cmap[0], alpha=(i+1)/lai_result.shape[1])\n",
    "_ = objfunc_calculator(origin_value)\n",
    "ori, = ax.plot(objfunc_calculator.df_sim.index, objfunc_calculator.df_sim.LAI, \"--\", c='gray')\n",
    "\n",
    "ax.xaxis.set_major_formatter(mdates.DateFormatter('%b'))\n",
    "ax.xaxis.set_major_locator(LinearLocator(12))\n",
    "ax.yaxis.set_major_locator(LinearLocator(6))\n",
    "ax.yaxis.set_minor_locator(LinearLocator(11))\n",
    "ax.set_ybound(0, 8)\n",
    "ax.set_xlabel('Month')\n",
    "ax.set_ylabel('LAI')\n",
    "\n",
    "plt.legend(handles=[obs, opt, ori], labels=['Observed', 'Optimized', 'Original'], frameon=False, loc=0)\n",
    "fig.tight_layout()\n",
    "plt.show()"
   ]
  }
 ],
 "metadata": {
  "kernelspec": {
   "display_name": "pcse",
   "language": "python",
   "name": "pcse"
  },
  "language_info": {
   "codemirror_mode": {
    "name": "ipython",
    "version": 3
   },
   "file_extension": ".py",
   "mimetype": "text/x-python",
   "name": "python",
   "nbconvert_exporter": "python",
   "pygments_lexer": "ipython3",
   "version": "3.9.7"
  }
 },
 "nbformat": 4,
 "nbformat_minor": 5
}
