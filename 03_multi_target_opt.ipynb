{
 "cells": [
  {
   "cell_type": "code",
   "execution_count": 1,
   "id": "5b6ced84-3e57-45db-93e0-f5d3b29cab3a",
   "metadata": {},
   "outputs": [],
   "source": [
    "%matplotlib inline\n",
    "from setting.matplotlib_ import *\n",
    "from setting.tools import *"
   ]
  },
  {
   "cell_type": "code",
   "execution_count": 2,
   "id": "b1668fef-a8e4-4c00-8e58-b4feefd36300",
   "metadata": {},
   "outputs": [
    {
     "name": "stdout",
     "output_type": "stream",
     "text": [
      "This notebook was built with:\n",
      "python version: 3.9.7 (default, Sep 16 2021, 13:09:58) \n",
      "[GCC 7.5.0] \n",
      "PCSE version: 5.5.0\n"
     ]
    }
   ],
   "source": [
    "print(\"This notebook was built with:\")\n",
    "print(\"python version: %s \" % sys.version)\n",
    "print(\"PCSE version: %s\" %  pcse.__version__)"
   ]
  },
  {
   "cell_type": "markdown",
   "id": "43ce1b06-4fc4-4d0d-b565-9cbb74afc582",
   "metadata": {},
   "source": [
    "거의 모든 과정이 동일합니다. <br>\n",
    "목표만 하나 추가해주면 됩니다."
   ]
  },
  {
   "cell_type": "markdown",
   "id": "7822b061-ca5c-4bc8-94ca-e385bf336590",
   "metadata": {},
   "source": [
    "## Loading environment data"
   ]
  },
  {
   "cell_type": "code",
   "execution_count": 3,
   "id": "17897b44-a166-4f95-a514-bfc3cf7d0c88",
   "metadata": {},
   "outputs": [],
   "source": [
    "target_env = pd.read_csv('./data/pap_env_RDA_open.csv', skiprows=1, header=None)\n",
    "target_env.loc[:, 0] = pd.DatetimeIndex(target_env.loc[:, 0])\n",
    "template = pd.read_excel('./data/data_template.xls', header=None)"
   ]
  },
  {
   "cell_type": "code",
   "execution_count": 4,
   "id": "5362c3dc-7e4e-43ac-8a83-07263b3888be",
   "metadata": {},
   "outputs": [],
   "source": [
    "target_env = pd.concat([template.loc[:11], target_env], axis=0)"
   ]
  },
  {
   "cell_type": "code",
   "execution_count": 5,
   "id": "c6fafc16-deb0-4aec-817b-fab07ce3d534",
   "metadata": {},
   "outputs": [
    {
     "name": "stderr",
     "output_type": "stream",
     "text": [
      "/tmp/ipykernel_436690/2866564418.py:1: FutureWarning: As the xlwt package is no longer maintained, the xlwt engine will be removed in a future version of pandas. This is the only engine in pandas that supports writing in the xls format. Install openpyxl and write to an xlsx file instead. You can set the option io.excel.xls.writer to 'xlwt' to silence this warning. While this option is deprecated and will also raise a warning, it can be globally set and the warning suppressed.\n",
      "  target_env.to_excel('./data/pap_env_processed.xls', index=False, header=False)\n"
     ]
    }
   ],
   "source": [
    "target_env.to_excel('./data/pap_env_processed.xls', index=False, header=False)"
   ]
  },
  {
   "cell_type": "markdown",
   "id": "11ed0049-148a-4f09-8bb8-e1457f507ae9",
   "metadata": {},
   "source": [
    "## Loading growth data"
   ]
  },
  {
   "cell_type": "code",
   "execution_count": 6,
   "id": "fee18f7c-423d-4be0-98f4-7f1e33d46b39",
   "metadata": {},
   "outputs": [],
   "source": [
    "target_output = pd.read_csv(f'./data/pap_grw_RDA_open.csv', index_col='date')\n",
    "target_output['LAI'] = (target_output['lefCunt']*target_output['lefLt']*target_output['lefBt'])/1000\n",
    "target_output.index = pd.DatetimeIndex(target_output.index)"
   ]
  },
  {
   "cell_type": "code",
   "execution_count": 7,
   "id": "65f5828d-be24-4450-acf3-343862a583c9",
   "metadata": {},
   "outputs": [],
   "source": [
    "target_output.loc[target_output['LAI'] == 0, 'LAI'] = np.nan\n",
    "target_output.loc[:, 'LAI'] = target_output.loc[:, 'LAI'].ffill()\n",
    "target_output = target_output.loc[~target_output.loc[:, 'LAI'].isna()]"
   ]
  },
  {
   "cell_type": "code",
   "execution_count": 8,
   "id": "7586eecc-de98-4f88-b65b-bb5788fd85fd",
   "metadata": {},
   "outputs": [],
   "source": [
    "target_output = target_output.loc[:, ['LAI', 'cum_harvest']]\n",
    "target_output.columns = ['LAI', 'TWSO']"
   ]
  },
  {
   "cell_type": "code",
   "execution_count": 9,
   "id": "3d7186b0-5cd7-4c83-868b-3726e5b8d2cb",
   "metadata": {},
   "outputs": [
    {
     "data": {
      "text/plain": [
       "<AxesSubplot:xlabel='date'>"
      ]
     },
     "execution_count": 9,
     "metadata": {},
     "output_type": "execute_result"
    },
    {
     "data": {
      "image/png": "[encoded data removed]",
      "text/plain": [
       "<Figure size 226.772x170.079 with 1 Axes>"
      ]
     },
     "metadata": {
      "needs_background": "light"
     },
     "output_type": "display_data"
    }
   ],
   "source": [
    "target_output.TWSO.plot()"
   ]
  },
  {
   "cell_type": "code",
   "execution_count": 10,
   "id": "7fd85b2f-33aa-4463-8edf-4667b45e7478",
   "metadata": {},
   "outputs": [],
   "source": [
    "FACTOR = 0.075\n",
    "target_output.loc[:, 'TWSO'] *= FACTOR"
   ]
  },
  {
   "cell_type": "markdown",
   "id": "d9858469-5159-4a44-b154-ee8995a01485",
   "metadata": {},
   "source": [
    "수확량에 대한 지표로 TWSO를 선택해서 목표로 삼습니다. <br>\n",
    "그러나, 시뮬레이션에 사용되는 값은 생체중이 아닌 건물중이므로 값을 조정하겠습니다."
   ]
  },
  {
   "cell_type": "code",
   "execution_count": 11,
   "id": "8c95b8ec-6bdd-4f30-b919-67ef1aa52a2d",
   "metadata": {},
   "outputs": [
    {
     "data": {
      "text/plain": [
       "<AxesSubplot:xlabel='date'>"
      ]
     },
     "execution_count": 11,
     "metadata": {},
     "output_type": "execute_result"
    },
    {
     "data": {
      "image/png": "[encoded data removed]",
      "text/plain": [
       "<Figure size 226.772x170.079 with 1 Axes>"
      ]
     },
     "metadata": {
      "needs_background": "light"
     },
     "output_type": "display_data"
    }
   ],
   "source": [
    "target_output.TWSO.plot()"
   ]
  },
  {
   "cell_type": "code",
   "execution_count": 12,
   "id": "79c40627-3d74-4554-8226-bf001b063d64",
   "metadata": {},
   "outputs": [],
   "source": [
    "minmax = pd.concat([target_output.min(), target_output.max()], axis=1)\n",
    "minmax.columns = ['min', 'max']"
   ]
  },
  {
   "cell_type": "markdown",
   "id": "3dd8298f-9ce6-4fa2-9364-20798f96611b",
   "metadata": {},
   "source": [
    "두 지표의 범위가 다르므로, loss에 같은 정도로 반영될 수 있도록 범위를 맞춰줄 필요가 있습니다. <br>\n",
    "`minmax`가 존재하면 `ObjectiveFunctionCalculator`가 목표 지표들의 범위를 0-1로 normalize합니다."
   ]
  },
  {
   "cell_type": "code",
   "execution_count": 13,
   "id": "020fc1cd-8e0e-4de7-9898-33e93366dca4",
   "metadata": {
    "tags": []
   },
   "outputs": [
    {
     "name": "stdout",
     "output_type": "stream",
     "text": [
      "from 2018-03-23 to 2018-09-21: 182 days\n"
     ]
    }
   ],
   "source": [
    "CROP_NAME = 'soybean'\n",
    "VARIETY_NAME = 'Soybean_906'\n",
    "START_DATE = str(pd.Timestamp('2018-03-23').date()) # starting date was deleted because of dropna\n",
    "END_DATE = str(target_output.index[-1].date())\n",
    "CULT_PERIOD = (pd.Timestamp(END_DATE)- pd.Timestamp(START_DATE)).days\n",
    "print(f'from {START_DATE} to {END_DATE}: {CULT_PERIOD} days')"
   ]
  },
  {
   "cell_type": "markdown",
   "id": "ab7d1f62-2365-4eac-aab3-cd5591580e1b",
   "metadata": {},
   "source": [
    "## Input data for WOFOST"
   ]
  },
  {
   "cell_type": "code",
   "execution_count": 14,
   "id": "eb0f8646-1744-4fd6-a0e6-dff7c45092dd",
   "metadata": {
    "scrolled": true
   },
   "outputs": [],
   "source": [
    "cropd = YAMLCropDataProvider()\n",
    "soild = DummySoilDataProvider()\n",
    "sited = WOFOST72SiteDataProvider(WAV=50, CO2=360.)\n",
    "params = ParameterProvider(cropdata=cropd, sitedata=sited, soildata=soild)"
   ]
  },
  {
   "cell_type": "code",
   "execution_count": 15,
   "id": "6351f1d8-4736-4791-a142-6c10876bae47",
   "metadata": {},
   "outputs": [],
   "source": [
    "# Agromanagement for the custom data\n",
    "agro_yaml = f\"\"\"\n",
    "- {START_DATE}:\n",
    "    CropCalendar:\n",
    "        crop_name: {CROP_NAME}\n",
    "        variety_name: {VARIETY_NAME}\n",
    "        crop_start_date: {START_DATE}\n",
    "        crop_start_type: emergence\n",
    "        crop_end_date: {END_DATE}\n",
    "        max_duration: {CULT_PERIOD}\n",
    "    TimedEvents: null\n",
    "    StateEvents: null\n",
    "\"\"\"\n",
    "agro = yaml.load(agro_yaml, Loader=yaml.FullLoader)"
   ]
  },
  {
   "cell_type": "code",
   "execution_count": 16,
   "id": "73abc0e6-fcd0-4137-a25b-6d804bbfa170",
   "metadata": {},
   "outputs": [],
   "source": [
    "wdp = ExcelWeatherDataProvider('./data/pap_env_processed.xls')"
   ]
  },
  {
   "cell_type": "markdown",
   "id": "61fea7fe-2e12-491a-8f32-8dff0fef1309",
   "metadata": {},
   "source": [
    "## WOFOST Initialization"
   ]
  },
  {
   "cell_type": "code",
   "execution_count": 17,
   "id": "d7c1ac12-4ada-4701-aea5-7f54f25f5bd9",
   "metadata": {},
   "outputs": [],
   "source": [
    "wofost = Wofost72_PP(params, wdp, agro)\n",
    "wofost.run_till_terminate()"
   ]
  },
  {
   "cell_type": "markdown",
   "id": "3022af8c-6201-4189-8b1e-6a7011bc1389",
   "metadata": {},
   "source": [
    "## Parameter selection"
   ]
  },
  {
   "cell_type": "code",
   "execution_count": 18,
   "id": "d0918bf0-a431-4e3c-8661-06a0d9c355bd",
   "metadata": {},
   "outputs": [],
   "source": [
    "target_params = {'TDWI':[0, 2000], 'TBASE':[0, 30], 'TSUM1':[0, 1000],'TSUM2':[1000, 4000],\n",
    "                 'RGRLAI':[0, 0.01], 'SPAN':[0, 500], 'PERDL':[0, 1],\n",
    "                 'SLATB':[0.001, 0.005, 3, [0, 2]], 'FRTB':[0, 1, 3, [0, 2]], 'AMAXTB':[0, 50, 3, [0, 2]]}\n",
    "target_obj = target_output.columns"
   ]
  },
  {
   "cell_type": "code",
   "execution_count": 19,
   "id": "ac9ef2c8-6f23-489b-9d2d-c774b373f9fa",
   "metadata": {},
   "outputs": [],
   "source": [
    "origin_value = {}\n",
    "for k in target_params:\n",
    "    v = params._cropdata[k]\n",
    "    origin_value[k] = v"
   ]
  },
  {
   "cell_type": "markdown",
   "id": "4f81fd8f-dd46-425a-b7ae-b69e10cbacdd",
   "metadata": {},
   "source": [
    "## HyperOpt preparation"
   ]
  },
  {
   "cell_type": "code",
   "execution_count": 20,
   "id": "2669fb62-73f1-411e-8e64-e96bcc0a4482",
   "metadata": {},
   "outputs": [],
   "source": [
    "space = {}\n",
    "for k in [_ for _ in target_params if not _.endswith('TB')]:\n",
    "    space[k] = hp.uniform(k, target_params[k][0], target_params[k][1])\n",
    "for k in [_ for _ in target_params if _.endswith('TB')]:\n",
    "    for i in range(target_params[k][2]):\n",
    "        space[f'{k}_{i}'] = hp.uniform(f'{k}_{i}', target_params[k][0], target_params[k][1])"
   ]
  },
  {
   "cell_type": "markdown",
   "id": "24f3201d-02d6-473d-9290-af6a4395ea8f",
   "metadata": {},
   "source": [
    "## Optimization process"
   ]
  },
  {
   "cell_type": "code",
   "execution_count": 21,
   "id": "5630583a-812a-4e14-bf9d-ba157ba83d92",
   "metadata": {},
   "outputs": [],
   "source": [
    "objfunc_calculator = ObjectiveFunctionCalculator(target_params, target_obj, params, wdp, agro, target_output, minmax)"
   ]
  },
  {
   "cell_type": "code",
   "execution_count": 22,
   "id": "afde2288-b3c8-4828-87d5-482533032359",
   "metadata": {},
   "outputs": [
    {
     "name": "stdout",
     "output_type": "stream",
     "text": [
      "100%|█████| 200/200 [00:52<00:00,  3.84trial/s, best loss: 0.018373723731663863]\n"
     ]
    }
   ],
   "source": [
    "best = fmin(fn=objfunc_calculator, space=space, algo=tpe.suggest, max_evals=200)"
   ]
  },
  {
   "cell_type": "markdown",
   "id": "dd5cff9c-3e03-4861-b4f8-f2250cb41a3d",
   "metadata": {},
   "source": [
    "## Result"
   ]
  },
  {
   "cell_type": "code",
   "execution_count": 23,
   "id": "886f4098-3ecd-484f-a800-b6a23e34f0a7",
   "metadata": {},
   "outputs": [
    {
     "name": "stdout",
     "output_type": "stream",
     "text": [
      "<Calibration result>\n",
      "TDWI: 120.0 -> 1486.19\n",
      "TBASE: 7.0 -> 10.07\n",
      "TSUM1: 500 -> 267.71\n",
      "TSUM2: 1300 -> 2464.63\n",
      "RGRLAI: 0.007 -> 0.00\n",
      "SPAN: 23.0 -> 134.85\n",
      "PERDL: 0.03 -> 0.39\n",
      "SLATB: [0.0, 0.0014, 0.45, 0.0025, 0.9, 0.0025, 2.0, 0.0007] -> [0.0, 0.002, 1.0, 0.0012, 2.0, 0.003]\n",
      "FRTB: [0.0, 0.65, 0.75, 0.45, 1.0, 0.2, 1.5, 0.0, 2.0, 0.0] -> [0.0, 0.8053, 1.0, 0.6233, 2.0, 0.202]\n",
      "AMAXTB: [0.0, 29.0, 1.7, 29.0, 2.0, 0.0] -> [0.0, 8.751, 1.0, 46.3691, 2.0, 24.9186]\n"
     ]
    }
   ],
   "source": [
    "print('<Calibration result>')\n",
    "for k in target_params:\n",
    "    if not k.endswith('TB'):\n",
    "        print(f'{k}: {origin_value[k]} -> {best[k]:.2f}')\n",
    "    else:\n",
    "        temp_list = []\n",
    "        for v1, v2 in zip(np.linspace(target_params[k][-1][0], target_params[k][-1][1], target_params[k][2]),\n",
    "                          [_ for _ in best if _.startswith(k)]):\n",
    "            temp_list.append(v1)\n",
    "            temp_list.append(best[v2])\n",
    "        print(f'{k}: {origin_value[k]} -> {[np.round(_, 4) for _ in temp_list]}')"
   ]
  },
  {
   "cell_type": "code",
   "execution_count": 24,
   "id": "f08c5e59-51a4-4703-b392-9405ac38247e",
   "metadata": {
    "tags": []
   },
   "outputs": [
    {
     "data": {
      "image/png": "[encoded data removed]",
      "text/plain": [
       "<Figure size 453.543x306.142 with 1 Axes>"
      ]
     },
     "metadata": {
      "needs_background": "light"
     },
     "output_type": "display_data"
    }
   ],
   "source": [
    "fig = plt.figure(figsize=((8/2.54*2), (6/2.54*1.8)))\n",
    "ax = plt.subplot()\n",
    "ax.spines['right'].set_visible(False)\n",
    "ax.spines['left'].set_position(('outward', 10))\n",
    "ax.spines['bottom'].set_position(('outward', 5))\n",
    "\n",
    "ax.plot(target_output.index, target_output.LAI, 'o', ms=5, mew=0.5, mec='k', c='k', label=\"Observation\")\n",
    "_ = objfunc_calculator(best)\n",
    "ax.plot(objfunc_calculator.sim.index, objfunc_calculator.sim.LAI, c=cmap[0], label=\"Optimized\")\n",
    "_ = objfunc_calculator(origin_value, is_train=False)\n",
    "ax.plot(objfunc_calculator.sim.index, objfunc_calculator.sim.LAI, \"--\", c='gray', label=\"Original\")\n",
    "\n",
    "ax.xaxis.set_major_formatter(mdates.DateFormatter('%b'))\n",
    "ax.xaxis.set_major_locator(LinearLocator(12))\n",
    "ax.yaxis.set_major_locator(LinearLocator(6))\n",
    "ax.yaxis.set_minor_locator(LinearLocator(11))\n",
    "ax.set_xlabel('Month')\n",
    "ax.set_ylabel('LAI')\n",
    "\n",
    "ax.legend(frameon=False, loc=0)\n",
    "fig.tight_layout()\n",
    "plt.show()"
   ]
  },
  {
   "cell_type": "code",
   "execution_count": 25,
   "id": "8fe48935-ea96-4346-9439-fc1f564007c1",
   "metadata": {},
   "outputs": [],
   "source": [
    "compare_df = pd.read_csv(f'./data/pap_grw_RDA_open.csv', index_col='date')\n",
    "compare_df.index = pd.DatetimeIndex(compare_df.index)"
   ]
  },
  {
   "cell_type": "code",
   "execution_count": 26,
   "id": "006be479-375e-4279-9d7c-90492e55566b",
   "metadata": {
    "tags": []
   },
   "outputs": [
    {
     "data": {
      "image/png": "[encoded data removed]",
      "text/plain": [
       "<Figure size 453.543x306.142 with 1 Axes>"
      ]
     },
     "metadata": {
      "needs_background": "light"
     },
     "output_type": "display_data"
    }
   ],
   "source": [
    "# rerun with the best parameters found\n",
    "fig = plt.figure(figsize=((8/2.54*2), (6/2.54*1.8)))\n",
    "ax = plt.subplot()\n",
    "ax.spines['right'].set_visible(False)\n",
    "ax.spines['left'].set_position(('outward', 10))\n",
    "ax.spines['bottom'].set_position(('outward', 5))\n",
    "\n",
    "ax.plot(compare_df.index, compare_df.cum_harvest*FACTOR, 'o', ms=5, mew=0.5, mec='k', c='k', label=\"Observation\")\n",
    "_ = objfunc_calculator(best)\n",
    "ax.plot(objfunc_calculator.sim.index, objfunc_calculator.sim.TWSO, c=cmap[0], label=\"Optimized\")\n",
    "_ = objfunc_calculator(origin_value, is_train=False)\n",
    "ax.plot(objfunc_calculator.sim.index, objfunc_calculator.sim.TWSO, \"--\", c='gray', label=\"Original\")\n",
    "\n",
    "ax.xaxis.set_major_formatter(mdates.DateFormatter('%b'))\n",
    "ax.xaxis.set_major_locator(LinearLocator(12))\n",
    "ax.yaxis.set_major_locator(LinearLocator(6))\n",
    "ax.yaxis.set_minor_locator(LinearLocator(11))\n",
    "ax.set_xlabel('Month')\n",
    "ax.set_ylabel('TWSO')\n",
    "\n",
    "ax.legend(frameon=False, loc=0)\n",
    "fig.tight_layout()\n",
    "plt.show()"
   ]
  },
  {
   "cell_type": "markdown",
   "id": "bf1b55ce-0408-4fb7-892f-6d4806a58235",
   "metadata": {},
   "source": [
    "간단하게 한 항목 추가하는 것으로 TWSO에 대해서도 최적화할 수 있습니다."
   ]
  }
 ],
 "metadata": {
  "kernelspec": {
   "display_name": "pcse",
   "language": "python",
   "name": "pcse"
  },
  "language_info": {
   "codemirror_mode": {
    "name": "ipython",
    "version": 3
   },
   "file_extension": ".py",
   "mimetype": "text/x-python",
   "name": "python",
   "nbconvert_exporter": "python",
   "pygments_lexer": "ipython3",
   "version": "3.9.7"
  }
 },
 "nbformat": 4,
 "nbformat_minor": 5
}
