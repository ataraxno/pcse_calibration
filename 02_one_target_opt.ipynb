{
 "cells": [
  {
   "cell_type": "code",
   "execution_count": 1,
   "id": "5b6ced84-3e57-45db-93e0-f5d3b29cab3a",
   "metadata": {},
   "outputs": [],
   "source": [
    "%matplotlib inline\n",
    "from setting.matplotlib_ import *\n",
    "from setting.tools import *"
   ]
  },
  {
   "cell_type": "code",
   "execution_count": 2,
   "id": "b1668fef-a8e4-4c00-8e58-b4feefd36300",
   "metadata": {},
   "outputs": [
    {
     "name": "stdout",
     "output_type": "stream",
     "text": [
      "This notebook was built with:\n",
      "python version: 3.9.7 (default, Sep 16 2021, 13:09:58) \n",
      "[GCC 7.5.0] \n",
      "PCSE version: 5.5.0\n"
     ]
    }
   ],
   "source": [
    "print(\"This notebook was built with:\")\n",
    "print(\"python version: %s \" % sys.version)\n",
    "print(\"PCSE version: %s\" %  pcse.__version__)"
   ]
  },
  {
   "cell_type": "markdown",
   "id": "7822b061-ca5c-4bc8-94ca-e385bf336590",
   "metadata": {},
   "source": [
    "## Loading environment data"
   ]
  },
  {
   "cell_type": "code",
   "execution_count": 3,
   "id": "17897b44-a166-4f95-a514-bfc3cf7d0c88",
   "metadata": {},
   "outputs": [],
   "source": [
    "target_env = pd.read_csv('./data/pap_env_RDA_open.csv', skiprows=1, header=None)\n",
    "target_env.loc[:, 0] = pd.DatetimeIndex(target_env.loc[:, 0])\n",
    "template = pd.read_excel('./data/data_template.xls', header=None)"
   ]
  },
  {
   "cell_type": "markdown",
   "id": "08980567-32a4-4ff4-9ce1-df247f6a5961",
   "metadata": {},
   "source": [
    "농진청 공개 데이터 중 하나를 사용했습니다."
   ]
  },
  {
   "cell_type": "code",
   "execution_count": 4,
   "id": "fc12d1fd-91f5-4294-9eb3-281bde65acab",
   "metadata": {},
   "outputs": [
    {
     "data": {
      "text/html": [
       "<div>\n",
       "<style scoped>\n",
       "    .dataframe tbody tr th:only-of-type {\n",
       "        vertical-align: middle;\n",
       "    }\n",
       "\n",
       "    .dataframe tbody tr th {\n",
       "        vertical-align: top;\n",
       "    }\n",
       "\n",
       "    .dataframe thead th {\n",
       "        text-align: right;\n",
       "    }\n",
       "</style>\n",
       "<table border=\"1\" class=\"dataframe\">\n",
       "  <thead>\n",
       "    <tr style=\"text-align: right;\">\n",
       "      <th></th>\n",
       "      <th>0</th>\n",
       "      <th>1</th>\n",
       "      <th>2</th>\n",
       "      <th>3</th>\n",
       "      <th>4</th>\n",
       "      <th>5</th>\n",
       "      <th>6</th>\n",
       "      <th>7</th>\n",
       "    </tr>\n",
       "  </thead>\n",
       "  <tbody>\n",
       "    <tr>\n",
       "      <th>0</th>\n",
       "      <td>Site Characteristics</td>\n",
       "      <td>NaN</td>\n",
       "      <td>NaN</td>\n",
       "      <td>NaN</td>\n",
       "      <td>NaN</td>\n",
       "      <td>NaN</td>\n",
       "      <td>NaN</td>\n",
       "      <td>NaN</td>\n",
       "    </tr>\n",
       "    <tr>\n",
       "      <th>1</th>\n",
       "      <td>Country</td>\n",
       "      <td>Republic of Korea</td>\n",
       "      <td>NaN</td>\n",
       "      <td>NaN</td>\n",
       "      <td>NaN</td>\n",
       "      <td>NaN</td>\n",
       "      <td>NaN</td>\n",
       "      <td>NaN</td>\n",
       "    </tr>\n",
       "    <tr>\n",
       "      <th>2</th>\n",
       "      <td>Station</td>\n",
       "      <td>Republic of Korea</td>\n",
       "      <td>NaN</td>\n",
       "      <td>NaN</td>\n",
       "      <td>NaN</td>\n",
       "      <td>NaN</td>\n",
       "      <td>NaN</td>\n",
       "      <td>NaN</td>\n",
       "    </tr>\n",
       "    <tr>\n",
       "      <th>3</th>\n",
       "      <td>Description</td>\n",
       "      <td>RDA smartfarm open data</td>\n",
       "      <td>NaN</td>\n",
       "      <td>NaN</td>\n",
       "      <td>NaN</td>\n",
       "      <td>NaN</td>\n",
       "      <td>NaN</td>\n",
       "      <td>NaN</td>\n",
       "    </tr>\n",
       "    <tr>\n",
       "      <th>4</th>\n",
       "      <td>Source</td>\n",
       "      <td>Rural Development Administration</td>\n",
       "      <td>NaN</td>\n",
       "      <td>NaN</td>\n",
       "      <td>NaN</td>\n",
       "      <td>NaN</td>\n",
       "      <td>NaN</td>\n",
       "      <td>NaN</td>\n",
       "    </tr>\n",
       "  </tbody>\n",
       "</table>\n",
       "</div>"
      ],
      "text/plain": [
       "                      0                                 1    2    3    4    5  \\\n",
       "0  Site Characteristics                               NaN  NaN  NaN  NaN  NaN   \n",
       "1               Country                 Republic of Korea  NaN  NaN  NaN  NaN   \n",
       "2               Station                 Republic of Korea  NaN  NaN  NaN  NaN   \n",
       "3           Description           RDA smartfarm open data  NaN  NaN  NaN  NaN   \n",
       "4                Source  Rural Development Administration  NaN  NaN  NaN  NaN   \n",
       "\n",
       "     6    7  \n",
       "0  NaN  NaN  \n",
       "1  NaN  NaN  \n",
       "2  NaN  NaN  \n",
       "3  NaN  NaN  \n",
       "4  NaN  NaN  "
      ]
     },
     "execution_count": 4,
     "metadata": {},
     "output_type": "execute_result"
    }
   ],
   "source": [
    "template.head()"
   ]
  },
  {
   "cell_type": "markdown",
   "id": "c9739df1-f75a-4058-9df6-0b914eeefca8",
   "metadata": {},
   "source": [
    "Custom data 사용을 위해 `ExcelWeatherDataProvider`를 사용합니다. <br>\n",
    "`ExcelWeatherDataProvider`의 정해진 형식을 따르기 위해 template.xls에 custom data를 합처야 합니다."
   ]
  },
  {
   "cell_type": "code",
   "execution_count": 5,
   "id": "5362c3dc-7e4e-43ac-8a83-07263b3888be",
   "metadata": {},
   "outputs": [],
   "source": [
    "target_env = pd.concat([template.loc[:11], target_env], axis=0)"
   ]
  },
  {
   "cell_type": "code",
   "execution_count": 6,
   "id": "41625643-8c2b-40f1-ab23-d32e3cde2a98",
   "metadata": {},
   "outputs": [
    {
     "data": {
      "text/html": [
       "<div>\n",
       "<style scoped>\n",
       "    .dataframe tbody tr th:only-of-type {\n",
       "        vertical-align: middle;\n",
       "    }\n",
       "\n",
       "    .dataframe tbody tr th {\n",
       "        vertical-align: top;\n",
       "    }\n",
       "\n",
       "    .dataframe thead th {\n",
       "        text-align: right;\n",
       "    }\n",
       "</style>\n",
       "<table border=\"1\" class=\"dataframe\">\n",
       "  <thead>\n",
       "    <tr style=\"text-align: right;\">\n",
       "      <th></th>\n",
       "      <th>0</th>\n",
       "      <th>1</th>\n",
       "      <th>2</th>\n",
       "      <th>3</th>\n",
       "      <th>4</th>\n",
       "      <th>5</th>\n",
       "      <th>6</th>\n",
       "      <th>7</th>\n",
       "    </tr>\n",
       "  </thead>\n",
       "  <tbody>\n",
       "    <tr>\n",
       "      <th>0</th>\n",
       "      <td>Site Characteristics</td>\n",
       "      <td>NaN</td>\n",
       "      <td>NaN</td>\n",
       "      <td>NaN</td>\n",
       "      <td>NaN</td>\n",
       "      <td>NaN</td>\n",
       "      <td>NaN</td>\n",
       "      <td>NaN</td>\n",
       "    </tr>\n",
       "    <tr>\n",
       "      <th>1</th>\n",
       "      <td>Country</td>\n",
       "      <td>Republic of Korea</td>\n",
       "      <td>NaN</td>\n",
       "      <td>NaN</td>\n",
       "      <td>NaN</td>\n",
       "      <td>NaN</td>\n",
       "      <td>NaN</td>\n",
       "      <td>NaN</td>\n",
       "    </tr>\n",
       "    <tr>\n",
       "      <th>2</th>\n",
       "      <td>Station</td>\n",
       "      <td>Republic of Korea</td>\n",
       "      <td>NaN</td>\n",
       "      <td>NaN</td>\n",
       "      <td>NaN</td>\n",
       "      <td>NaN</td>\n",
       "      <td>NaN</td>\n",
       "      <td>NaN</td>\n",
       "    </tr>\n",
       "    <tr>\n",
       "      <th>3</th>\n",
       "      <td>Description</td>\n",
       "      <td>RDA smartfarm open data</td>\n",
       "      <td>NaN</td>\n",
       "      <td>NaN</td>\n",
       "      <td>NaN</td>\n",
       "      <td>NaN</td>\n",
       "      <td>NaN</td>\n",
       "      <td>NaN</td>\n",
       "    </tr>\n",
       "    <tr>\n",
       "      <th>4</th>\n",
       "      <td>Source</td>\n",
       "      <td>Rural Development Administration</td>\n",
       "      <td>NaN</td>\n",
       "      <td>NaN</td>\n",
       "      <td>NaN</td>\n",
       "      <td>NaN</td>\n",
       "      <td>NaN</td>\n",
       "      <td>NaN</td>\n",
       "    </tr>\n",
       "  </tbody>\n",
       "</table>\n",
       "</div>"
      ],
      "text/plain": [
       "                      0                                 1    2    3    4    5  \\\n",
       "0  Site Characteristics                               NaN  NaN  NaN  NaN  NaN   \n",
       "1               Country                 Republic of Korea  NaN  NaN  NaN  NaN   \n",
       "2               Station                 Republic of Korea  NaN  NaN  NaN  NaN   \n",
       "3           Description           RDA smartfarm open data  NaN  NaN  NaN  NaN   \n",
       "4                Source  Rural Development Administration  NaN  NaN  NaN  NaN   \n",
       "\n",
       "     6    7  \n",
       "0  NaN  NaN  \n",
       "1  NaN  NaN  \n",
       "2  NaN  NaN  \n",
       "3  NaN  NaN  \n",
       "4  NaN  NaN  "
      ]
     },
     "execution_count": 6,
     "metadata": {},
     "output_type": "execute_result"
    }
   ],
   "source": [
    "target_env.head()"
   ]
  },
  {
   "cell_type": "code",
   "execution_count": 7,
   "id": "c6fafc16-deb0-4aec-817b-fab07ce3d534",
   "metadata": {},
   "outputs": [
    {
     "name": "stderr",
     "output_type": "stream",
     "text": [
      "/tmp/ipykernel_256532/2866564418.py:1: FutureWarning: As the xlwt package is no longer maintained, the xlwt engine will be removed in a future version of pandas. This is the only engine in pandas that supports writing in the xls format. Install openpyxl and write to an xlsx file instead. You can set the option io.excel.xls.writer to 'xlwt' to silence this warning. While this option is deprecated and will also raise a warning, it can be globally set and the warning suppressed.\n",
      "  target_env.to_excel('./data/pap_env_processed.xls', index=False, header=False)\n"
     ]
    }
   ],
   "source": [
    "target_env.to_excel('./data/pap_env_processed.xls', index=False, header=False)"
   ]
  },
  {
   "cell_type": "markdown",
   "id": "b72f0f44-39c8-4dab-876f-a81b00f7bf19",
   "metadata": {},
   "source": [
    "`ExcelWeatherDataProvider`는 저장된 파일에서부터 환경을 불러오기 때문에, 엑셀 파일로 저장합니다. <br>\n",
    "`ExcelWeatherDataProvider`는 xlsx를 읽지 못합니다. xls 형식이 오래되어 오류가 발생하지만, 추후 업데이트되길 바라며 지나갑니다."
   ]
  },
  {
   "cell_type": "markdown",
   "id": "11ed0049-148a-4f09-8bb8-e1457f507ae9",
   "metadata": {},
   "source": [
    "## Loading growth data"
   ]
  },
  {
   "cell_type": "code",
   "execution_count": 8,
   "id": "fee18f7c-423d-4be0-98f4-7f1e33d46b39",
   "metadata": {},
   "outputs": [],
   "source": [
    "target_output = pd.read_csv(f'./data/pap_grw_RDA_open.csv', index_col='date')\n",
    "target_output['LAI'] = (target_output['lefCunt']*target_output['lefLt']*target_output['lefBt'])/1000\n",
    "target_output.index = pd.DatetimeIndex(target_output.index)"
   ]
  },
  {
   "cell_type": "code",
   "execution_count": 9,
   "id": "15db4ece-2b96-4fd1-a0cd-d6e4ac7c1288",
   "metadata": {},
   "outputs": [
    {
     "data": {
      "text/html": [
       "<div>\n",
       "<style scoped>\n",
       "    .dataframe tbody tr th:only-of-type {\n",
       "        vertical-align: middle;\n",
       "    }\n",
       "\n",
       "    .dataframe tbody tr th {\n",
       "        vertical-align: top;\n",
       "    }\n",
       "\n",
       "    .dataframe thead th {\n",
       "        text-align: right;\n",
       "    }\n",
       "</style>\n",
       "<table border=\"1\" class=\"dataframe\">\n",
       "  <thead>\n",
       "    <tr style=\"text-align: right;\">\n",
       "      <th></th>\n",
       "      <th>frtstGrupp</th>\n",
       "      <th>lefstalklt</th>\n",
       "      <th>frtstSetCo</th>\n",
       "      <th>pllnLt</th>\n",
       "      <th>flanGrupp</th>\n",
       "      <th>frtstCo</th>\n",
       "      <th>flanJnt</th>\n",
       "      <th>tcdmt</th>\n",
       "      <th>frmhsFclu</th>\n",
       "      <th>hvstGrupp</th>\n",
       "      <th>...</th>\n",
       "      <th>lefLt</th>\n",
       "      <th>flwrCo</th>\n",
       "      <th>hvstCo</th>\n",
       "      <th>frmWeek</th>\n",
       "      <th>lefCunt</th>\n",
       "      <th>frtstJnt</th>\n",
       "      <th>lefBt</th>\n",
       "      <th>stemThck</th>\n",
       "      <th>cum_harvest</th>\n",
       "      <th>LAI</th>\n",
       "    </tr>\n",
       "    <tr>\n",
       "      <th>date</th>\n",
       "      <th></th>\n",
       "      <th></th>\n",
       "      <th></th>\n",
       "      <th></th>\n",
       "      <th></th>\n",
       "      <th></th>\n",
       "      <th></th>\n",
       "      <th></th>\n",
       "      <th></th>\n",
       "      <th></th>\n",
       "      <th></th>\n",
       "      <th></th>\n",
       "      <th></th>\n",
       "      <th></th>\n",
       "      <th></th>\n",
       "      <th></th>\n",
       "      <th></th>\n",
       "      <th></th>\n",
       "      <th></th>\n",
       "      <th></th>\n",
       "      <th></th>\n",
       "    </tr>\n",
       "  </thead>\n",
       "  <tbody>\n",
       "    <tr>\n",
       "      <th>2018-03-23</th>\n",
       "      <td>0</td>\n",
       "      <td>0</td>\n",
       "      <td>0.0</td>\n",
       "      <td>0</td>\n",
       "      <td>0</td>\n",
       "      <td>0.0</td>\n",
       "      <td>0.0</td>\n",
       "      <td>0</td>\n",
       "      <td>0</td>\n",
       "      <td>0</td>\n",
       "      <td>...</td>\n",
       "      <td>0.000000</td>\n",
       "      <td>0</td>\n",
       "      <td>0</td>\n",
       "      <td>12</td>\n",
       "      <td>0.000000</td>\n",
       "      <td>0.0</td>\n",
       "      <td>0.000000</td>\n",
       "      <td>0.00000</td>\n",
       "      <td>0.0</td>\n",
       "      <td>0.000000</td>\n",
       "    </tr>\n",
       "    <tr>\n",
       "      <th>2018-03-30</th>\n",
       "      <td>0</td>\n",
       "      <td>0</td>\n",
       "      <td>0.0</td>\n",
       "      <td>0</td>\n",
       "      <td>0</td>\n",
       "      <td>0.0</td>\n",
       "      <td>0.0</td>\n",
       "      <td>0</td>\n",
       "      <td>0</td>\n",
       "      <td>0</td>\n",
       "      <td>...</td>\n",
       "      <td>0.000000</td>\n",
       "      <td>0</td>\n",
       "      <td>0</td>\n",
       "      <td>13</td>\n",
       "      <td>0.000000</td>\n",
       "      <td>0.0</td>\n",
       "      <td>0.000000</td>\n",
       "      <td>0.00000</td>\n",
       "      <td>0.0</td>\n",
       "      <td>0.000000</td>\n",
       "    </tr>\n",
       "    <tr>\n",
       "      <th>2018-04-06</th>\n",
       "      <td>0</td>\n",
       "      <td>0</td>\n",
       "      <td>0.0</td>\n",
       "      <td>0</td>\n",
       "      <td>0</td>\n",
       "      <td>0.0</td>\n",
       "      <td>1.0</td>\n",
       "      <td>0</td>\n",
       "      <td>0</td>\n",
       "      <td>0</td>\n",
       "      <td>...</td>\n",
       "      <td>29.475000</td>\n",
       "      <td>0</td>\n",
       "      <td>0</td>\n",
       "      <td>14</td>\n",
       "      <td>0.000000</td>\n",
       "      <td>1.0</td>\n",
       "      <td>9.875000</td>\n",
       "      <td>10.16250</td>\n",
       "      <td>0.0</td>\n",
       "      <td>0.000000</td>\n",
       "    </tr>\n",
       "    <tr>\n",
       "      <th>2018-04-13</th>\n",
       "      <td>0</td>\n",
       "      <td>0</td>\n",
       "      <td>0.0</td>\n",
       "      <td>0</td>\n",
       "      <td>0</td>\n",
       "      <td>0.0</td>\n",
       "      <td>1.0</td>\n",
       "      <td>0</td>\n",
       "      <td>0</td>\n",
       "      <td>0</td>\n",
       "      <td>...</td>\n",
       "      <td>31.942857</td>\n",
       "      <td>0</td>\n",
       "      <td>0</td>\n",
       "      <td>15</td>\n",
       "      <td>0.785714</td>\n",
       "      <td>0.0</td>\n",
       "      <td>10.914286</td>\n",
       "      <td>9.10125</td>\n",
       "      <td>0.0</td>\n",
       "      <td>0.273926</td>\n",
       "    </tr>\n",
       "    <tr>\n",
       "      <th>2018-04-20</th>\n",
       "      <td>0</td>\n",
       "      <td>0</td>\n",
       "      <td>0.0</td>\n",
       "      <td>0</td>\n",
       "      <td>0</td>\n",
       "      <td>0.0</td>\n",
       "      <td>1.1</td>\n",
       "      <td>0</td>\n",
       "      <td>0</td>\n",
       "      <td>0</td>\n",
       "      <td>...</td>\n",
       "      <td>32.490000</td>\n",
       "      <td>0</td>\n",
       "      <td>0</td>\n",
       "      <td>16</td>\n",
       "      <td>1.000000</td>\n",
       "      <td>1.0</td>\n",
       "      <td>12.270000</td>\n",
       "      <td>8.72800</td>\n",
       "      <td>0.0</td>\n",
       "      <td>0.398652</td>\n",
       "    </tr>\n",
       "  </tbody>\n",
       "</table>\n",
       "<p>5 rows × 26 columns</p>\n",
       "</div>"
      ],
      "text/plain": [
       "            frtstGrupp  lefstalklt  frtstSetCo  pllnLt  flanGrupp  frtstCo  \\\n",
       "date                                                                         \n",
       "2018-03-23           0           0         0.0       0          0      0.0   \n",
       "2018-03-30           0           0         0.0       0          0      0.0   \n",
       "2018-04-06           0           0         0.0       0          0      0.0   \n",
       "2018-04-13           0           0         0.0       0          0      0.0   \n",
       "2018-04-20           0           0         0.0       0          0      0.0   \n",
       "\n",
       "            flanJnt  tcdmt  frmhsFclu  hvstGrupp  ...      lefLt  flwrCo  \\\n",
       "date                                              ...                      \n",
       "2018-03-23      0.0      0          0          0  ...   0.000000       0   \n",
       "2018-03-30      0.0      0          0          0  ...   0.000000       0   \n",
       "2018-04-06      1.0      0          0          0  ...  29.475000       0   \n",
       "2018-04-13      1.0      0          0          0  ...  31.942857       0   \n",
       "2018-04-20      1.1      0          0          0  ...  32.490000       0   \n",
       "\n",
       "            hvstCo  frmWeek   lefCunt frtstJnt      lefBt  stemThck  \\\n",
       "date                                                                  \n",
       "2018-03-23       0       12  0.000000      0.0   0.000000   0.00000   \n",
       "2018-03-30       0       13  0.000000      0.0   0.000000   0.00000   \n",
       "2018-04-06       0       14  0.000000      1.0   9.875000  10.16250   \n",
       "2018-04-13       0       15  0.785714      0.0  10.914286   9.10125   \n",
       "2018-04-20       0       16  1.000000      1.0  12.270000   8.72800   \n",
       "\n",
       "            cum_harvest       LAI  \n",
       "date                               \n",
       "2018-03-23          0.0  0.000000  \n",
       "2018-03-30          0.0  0.000000  \n",
       "2018-04-06          0.0  0.000000  \n",
       "2018-04-13          0.0  0.273926  \n",
       "2018-04-20          0.0  0.398652  \n",
       "\n",
       "[5 rows x 26 columns]"
      ]
     },
     "execution_count": 9,
     "metadata": {},
     "output_type": "execute_result"
    }
   ],
   "source": [
    "target_output.head()"
   ]
  },
  {
   "cell_type": "code",
   "execution_count": 10,
   "id": "65f5828d-be24-4450-acf3-343862a583c9",
   "metadata": {},
   "outputs": [],
   "source": [
    "target_output.loc[target_output['LAI'] == 0, 'LAI'] = np.nan\n",
    "target_output.loc[:, 'LAI'] = target_output.loc[:, 'LAI'].ffill()\n",
    "target_output = target_output.loc[~target_output.loc[:, 'LAI'].isna()]"
   ]
  },
  {
   "cell_type": "code",
   "execution_count": 11,
   "id": "323f48a1-8648-4a94-b82e-80b0a6b7d382",
   "metadata": {},
   "outputs": [
    {
     "data": {
      "text/plain": [
       "<AxesSubplot:xlabel='date'>"
      ]
     },
     "execution_count": 11,
     "metadata": {},
     "output_type": "execute_result"
    },
    {
     "data": {
      "image/png": "[encoded data removed]",
      "text/plain": [
       "<Figure size 226.772x170.079 with 1 Axes>"
      ]
     },
     "metadata": {
      "needs_background": "light"
     },
     "output_type": "display_data"
    }
   ],
   "source": [
    "target_output['LAI'].plot()"
   ]
  },
  {
   "cell_type": "code",
   "execution_count": 12,
   "id": "10780d2a-ea63-40f5-accf-ffd865cb62bb",
   "metadata": {},
   "outputs": [],
   "source": [
    "target_output = target_output.loc[:, 'LAI':'LAI']"
   ]
  },
  {
   "cell_type": "code",
   "execution_count": 13,
   "id": "7586eecc-de98-4f88-b65b-bb5788fd85fd",
   "metadata": {},
   "outputs": [
    {
     "data": {
      "text/html": [
       "<div>\n",
       "<style scoped>\n",
       "    .dataframe tbody tr th:only-of-type {\n",
       "        vertical-align: middle;\n",
       "    }\n",
       "\n",
       "    .dataframe tbody tr th {\n",
       "        vertical-align: top;\n",
       "    }\n",
       "\n",
       "    .dataframe thead th {\n",
       "        text-align: right;\n",
       "    }\n",
       "</style>\n",
       "<table border=\"1\" class=\"dataframe\">\n",
       "  <thead>\n",
       "    <tr style=\"text-align: right;\">\n",
       "      <th></th>\n",
       "      <th>LAI</th>\n",
       "    </tr>\n",
       "    <tr>\n",
       "      <th>date</th>\n",
       "      <th></th>\n",
       "    </tr>\n",
       "  </thead>\n",
       "  <tbody>\n",
       "    <tr>\n",
       "      <th>2018-04-13</th>\n",
       "      <td>0.273926</td>\n",
       "    </tr>\n",
       "    <tr>\n",
       "      <th>2018-04-20</th>\n",
       "      <td>0.398652</td>\n",
       "    </tr>\n",
       "    <tr>\n",
       "      <th>2018-04-27</th>\n",
       "      <td>0.953918</td>\n",
       "    </tr>\n",
       "    <tr>\n",
       "      <th>2018-05-04</th>\n",
       "      <td>1.526579</td>\n",
       "    </tr>\n",
       "    <tr>\n",
       "      <th>2018-05-11</th>\n",
       "      <td>1.908433</td>\n",
       "    </tr>\n",
       "  </tbody>\n",
       "</table>\n",
       "</div>"
      ],
      "text/plain": [
       "                 LAI\n",
       "date                \n",
       "2018-04-13  0.273926\n",
       "2018-04-20  0.398652\n",
       "2018-04-27  0.953918\n",
       "2018-05-04  1.526579\n",
       "2018-05-11  1.908433"
      ]
     },
     "execution_count": 13,
     "metadata": {},
     "output_type": "execute_result"
    }
   ],
   "source": [
    "target_output.head()"
   ]
  },
  {
   "cell_type": "markdown",
   "id": "87a88226-6b1f-4b68-b71b-2db42e13e98e",
   "metadata": {},
   "source": [
    "먼저 LAI 하나의 목표만 최적화 해보고자 합니다."
   ]
  },
  {
   "cell_type": "code",
   "execution_count": 14,
   "id": "020fc1cd-8e0e-4de7-9898-33e93366dca4",
   "metadata": {
    "tags": []
   },
   "outputs": [
    {
     "name": "stdout",
     "output_type": "stream",
     "text": [
      "from 2018-03-23 to 2018-09-21: 182 days\n"
     ]
    }
   ],
   "source": [
    "CROP_NAME = 'soybean'\n",
    "VARIETY_NAME = 'Soybean_906'\n",
    "START_DATE = str(pd.Timestamp('2018-03-23').date()) # starting date was deleted because of dropna\n",
    "END_DATE = str(target_output.index[-1].date())\n",
    "CULT_PERIOD = (pd.Timestamp(END_DATE)- pd.Timestamp(START_DATE)).days\n",
    "print(f'from {START_DATE} to {END_DATE}: {CULT_PERIOD} days')"
   ]
  },
  {
   "cell_type": "markdown",
   "id": "b99aa4df-1ee8-4353-8efa-36f45648a019",
   "metadata": {},
   "source": [
    "원본 작물은 Soybean입니다. <br>\n",
    "정식한 순간에 수집한 LAI가 없어서 시작 날짜가 사라졌으므로 직접 작성해줍니다."
   ]
  },
  {
   "cell_type": "markdown",
   "id": "ab7d1f62-2365-4eac-aab3-cd5591580e1b",
   "metadata": {},
   "source": [
    "## Input data for WOFOST"
   ]
  },
  {
   "cell_type": "code",
   "execution_count": 15,
   "id": "eb0f8646-1744-4fd6-a0e6-dff7c45092dd",
   "metadata": {
    "scrolled": true
   },
   "outputs": [],
   "source": [
    "cropd = YAMLCropDataProvider()\n",
    "soild = DummySoilDataProvider()\n",
    "sited = WOFOST72SiteDataProvider(WAV=50, CO2=360.)\n",
    "params = ParameterProvider(cropdata=cropd, sitedata=sited, soildata=soild)"
   ]
  },
  {
   "cell_type": "markdown",
   "id": "afcc4c7e-098d-4949-8e51-83049dc54613",
   "metadata": {},
   "source": [
    "원본 튜토리얼과 동일하게 불러오는 과정이 필요합니다."
   ]
  },
  {
   "cell_type": "code",
   "execution_count": 16,
   "id": "f13152a0-0fea-4ef4-b051-16f2529812b4",
   "metadata": {
    "scrolled": true,
    "tags": []
   },
   "outputs": [
    {
     "name": "stdout",
     "output_type": "stream",
     "text": [
      "crop 'barley', available varieties:\n",
      " - 'Spring_barley_301'\n",
      "crop 'cassava', available varieties:\n",
      " - 'Cassava_VanHeemst_1988'\n",
      "crop 'chickpea', available varieties:\n",
      " - 'Chickpea_VanHeemst_1988'\n",
      "crop 'cotton', available varieties:\n",
      " - 'Cotton_VanHeemst_1988'\n",
      "crop 'cowpea', available varieties:\n",
      " - 'Cowpea_VanHeemst_1988'\n",
      "crop 'fababean', available varieties:\n",
      " - 'Faba_bean_801'\n",
      "crop 'groundnut', available varieties:\n",
      " - 'Groundnut_VanHeemst_1988'\n",
      "crop 'maize', available varieties:\n",
      " - 'Maize_VanHeemst_1988'\n",
      " - 'Grain_maize_201'\n",
      " - 'Grain_maize_202'\n",
      " - 'Grain_maize_203'\n",
      " - 'Grain_maize_204'\n",
      " - 'Grain_maize_205'\n",
      "crop 'millet', available varieties:\n",
      " - 'Millet_VanHeemst_1988'\n",
      "crop 'mungbean', available varieties:\n",
      " - 'Mungbean_VanHeemst_1988'\n",
      "crop 'pigeonpea', available varieties:\n",
      " - 'Pigeonpea_VanHeemst_1988'\n",
      "crop 'potato', available varieties:\n",
      " - 'Potato_701'\n",
      " - 'Potato_702'\n",
      " - 'Potato_703'\n",
      " - 'Potato_704'\n",
      "crop 'rapeseed', available varieties:\n",
      " - 'Oilseed_rape_1001'\n",
      " - 'Oilseed_rape_1002'\n",
      " - 'Oilseed_rape_1003'\n",
      " - 'Oilseed_rape_1004'\n",
      "crop 'rice', available varieties:\n",
      " - 'Rice_501'\n",
      " - 'Rice_HYV_IR8'\n",
      " - 'Rice_IR64616H_DS'\n",
      " - 'Rice_IR64616H_WS'\n",
      " - 'Rice_IR64'\n",
      " - 'Rice_IR72'\n",
      " - 'Rice_IR72_DS'\n",
      " - 'Rice_IR72_WS'\n",
      " - 'Rice_IR8A'\n",
      "crop 'sorghum', available varieties:\n",
      " - 'Sorghum_VanHeemst_1988'\n",
      "crop 'soybean', available varieties:\n",
      " - 'Soybean_901'\n",
      " - 'Soybean_902'\n",
      " - 'Soybean_903'\n",
      " - 'Soybean_904'\n",
      " - 'Soybean_905'\n",
      " - 'Soybean_906'\n",
      " - 'Soybean_VanHeemst_1988'\n",
      "crop 'sugarbeet', available varieties:\n",
      " - 'Sugarbeet_601'\n",
      " - 'Sugarbeet_602'\n",
      " - 'Sugarbeet_603'\n",
      " - 'Sugarbeet_604'\n",
      "crop 'sugarcane', available varieties:\n",
      " - 'Sugarcane_VanHeemst_1988'\n",
      "crop 'sunflower', available varieties:\n",
      " - 'Sunflower_1101'\n",
      "crop 'sweetpotato', available varieties:\n",
      " - 'Sweetpotato_VanHeemst_1988'\n",
      "crop 'tobacco', available varieties:\n",
      " - 'Tobacco_VanHeemst_1988'\n",
      "crop 'wheat', available varieties:\n",
      " - 'Winter_wheat_101'\n",
      " - 'Winter_wheat_102'\n",
      " - 'Winter_wheat_103'\n",
      " - 'Winter_wheat_104'\n",
      " - 'Winter_wheat_105'\n",
      " - 'Winter_wheat_106'\n",
      " - 'Winter_wheat_107'\n",
      "\n"
     ]
    }
   ],
   "source": [
    "cropd.print_crops_varieties()"
   ]
  },
  {
   "cell_type": "markdown",
   "id": "9ec8b801-960a-4b60-bf09-86f987190a6f",
   "metadata": {},
   "source": [
    "WOFOST에 등록되어 있는 작물과 품종을 확인할 수 있습니다."
   ]
  },
  {
   "cell_type": "code",
   "execution_count": 17,
   "id": "6351f1d8-4736-4791-a142-6c10876bae47",
   "metadata": {},
   "outputs": [],
   "source": [
    "# Agromanagement for the custom data\n",
    "agro_yaml = f\"\"\"\n",
    "- {START_DATE}:\n",
    "    CropCalendar:\n",
    "        crop_name: {CROP_NAME}\n",
    "        variety_name: {VARIETY_NAME}\n",
    "        crop_start_date: {START_DATE}\n",
    "        crop_start_type: emergence\n",
    "        crop_end_date: {END_DATE}\n",
    "        max_duration: {CULT_PERIOD}\n",
    "    TimedEvents: null\n",
    "    StateEvents: null\n",
    "\"\"\"\n",
    "agro = yaml.load(agro_yaml, Loader=yaml.FullLoader)"
   ]
  },
  {
   "cell_type": "markdown",
   "id": "76df4f1e-60c2-4754-9ae5-e6672bd7ff91",
   "metadata": {},
   "source": [
    "yaml 업데이트에 대한 오류가 발생하지만, 작동에는 문제가 없습니다."
   ]
  },
  {
   "cell_type": "code",
   "execution_count": 18,
   "id": "73abc0e6-fcd0-4137-a25b-6d804bbfa170",
   "metadata": {},
   "outputs": [],
   "source": [
    "wdp = ExcelWeatherDataProvider('./data/pap_env_processed.xls')"
   ]
  },
  {
   "cell_type": "markdown",
   "id": "4e26d491-8128-42a2-be66-5871674ef533",
   "metadata": {},
   "source": [
    "위에서 저장한 파일을 불러옵니다."
   ]
  },
  {
   "cell_type": "markdown",
   "id": "61fea7fe-2e12-491a-8f32-8dff0fef1309",
   "metadata": {},
   "source": [
    "## WOFOST Initialization"
   ]
  },
  {
   "cell_type": "code",
   "execution_count": 19,
   "id": "d7c1ac12-4ada-4701-aea5-7f54f25f5bd9",
   "metadata": {},
   "outputs": [],
   "source": [
    "wofost = Wofost72_PP(params, wdp, agro)\n",
    "wofost.run_till_terminate()"
   ]
  },
  {
   "cell_type": "markdown",
   "id": "3022af8c-6201-4189-8b1e-6a7011bc1389",
   "metadata": {},
   "source": [
    "## Parameter selection"
   ]
  },
  {
   "cell_type": "code",
   "execution_count": 20,
   "id": "79a3859b-74c5-4f4d-834f-300c314216e4",
   "metadata": {},
   "outputs": [],
   "source": [
    "target_params = ['TSUM2', 'SPAN', 'SLATB']\n",
    "target_obj = target_output.columns\n",
    "params_range = [[2000, 4000], [100, 400]] # [min, max]\n",
    "params_range_tb = [[0.001, 0.005, 5]] # [min, max, repeat]"
   ]
  },
  {
   "cell_type": "markdown",
   "id": "cf8cc0b6-30a6-475f-a98e-b6b184c2a59f",
   "metadata": {},
   "source": [
    "하나의 값을 갖는 파라미터 외에 테이블(행렬) 형태로 입력되는 파라미터 -TB가 있습니다. <br>"
   ]
  },
  {
   "cell_type": "code",
   "execution_count": 21,
   "id": "958ef560-fb7b-43d3-8fa5-2055781464f4",
   "metadata": {
    "scrolled": true,
    "tags": []
   },
   "outputs": [
    {
     "data": {
      "text/plain": [
       "{'CO2EFFTB': [40.0, 0.0, 360.0, 1.0, 720.0, 1.11, 1000.0, 1.11, 2000.0, 1.11],\n",
       " 'CO2TRATB': [40.0, 0.0, 360.0, 1.0, 720.0, 0.9, 1000.0, 0.9, 2000.0, 0.9],\n",
       " 'CO2AMAXTB': [40.0, 0.0, 360.0, 1.0, 720.0, 1.6, 1000.0, 1.9, 2000.0, 1.9],\n",
       " 'TBASEM': 7.0,\n",
       " 'TEFFMX': 22.0,\n",
       " 'TSUMEM': 90,\n",
       " 'IDSL': 0,\n",
       " 'DLO': -99.0,\n",
       " 'DLC': -99.0,\n",
       " 'TSUM1': 500,\n",
       " 'TSUM2': 1300,\n",
       " 'DTSMTB': [0.0, 0.0, 7.0, 0.0, 30.0, 23.0, 45.0, 38.0],\n",
       " 'DVSI': 0.0,\n",
       " 'DVSEND': 2.0,\n",
       " 'VERNBASE': 14.0,\n",
       " 'VERNSAT': 70.0,\n",
       " 'VERNDVS': 0.3,\n",
       " 'VERNRTB': [-8.0, 0.0, -4.0, 0.0, 3.0, 1.0, 10.0, 1.0, 17.0, 0.0, 20.0, 0.0],\n",
       " 'TDWI': 120.0,\n",
       " 'RGRLAI': 0.007,\n",
       " 'SLATB': [0.0, 0.0014, 0.45, 0.0025, 0.9, 0.0025, 2.0, 0.0007],\n",
       " 'SPA': 0.0,\n",
       " 'SSATB': [0.0, 0.0, 2.0, 0.0],\n",
       " 'SPAN': 23.0,\n",
       " 'TBASE': 7.0,\n",
       " 'KDIFTB': [0.0, 0.8, 2.0, 0.8],\n",
       " 'EFFTB': [0.0, 0.4, 40.0, 0.4],\n",
       " 'AMAXTB': [0.0, 29.0, 1.7, 29.0, 2.0, 0.0],\n",
       " 'TMPFTB': [0.0, 0.0, 10.0, 0.3, 20.0, 0.6, 25.0, 0.8, 30.0, 1.0, 35.0, 1.0],\n",
       " 'TMNFTB': [0.0, 0.0, 3.0, 1.0],\n",
       " 'CVL': 0.72,\n",
       " 'CVO': 0.48,\n",
       " 'CVR': 0.72,\n",
       " 'CVS': 0.69,\n",
       " 'Q10': 2.0,\n",
       " 'RML': 0.03,\n",
       " 'RMO': 0.017,\n",
       " 'RMR': 0.01,\n",
       " 'RMS': 0.015,\n",
       " 'RFSETB': [0.0, 1.0, 2.0, 1.0],\n",
       " 'FRTB': [0.0, 0.65, 0.75, 0.45, 1.0, 0.2, 1.5, 0.0, 2.0, 0.0],\n",
       " 'FLTB': [0.0,\n",
       "  0.7,\n",
       "  1.0,\n",
       "  0.7,\n",
       "  1.15,\n",
       "  0.6,\n",
       "  1.3,\n",
       "  0.43,\n",
       "  1.5,\n",
       "  0.15,\n",
       "  1.7,\n",
       "  0.07,\n",
       "  2.0,\n",
       "  0.0],\n",
       " 'FSTB': [0.0,\n",
       "  0.3,\n",
       "  1.0,\n",
       "  0.3,\n",
       "  1.15,\n",
       "  0.25,\n",
       "  1.3,\n",
       "  0.1,\n",
       "  1.5,\n",
       "  0.1,\n",
       "  1.7,\n",
       "  0.03,\n",
       "  2.0,\n",
       "  0.0],\n",
       " 'FOTB': [0.0,\n",
       "  0.0,\n",
       "  1.0,\n",
       "  0.0,\n",
       "  1.15,\n",
       "  0.15,\n",
       "  1.3,\n",
       "  0.47,\n",
       "  1.5,\n",
       "  0.75,\n",
       "  1.7,\n",
       "  0.9,\n",
       "  2.0,\n",
       "  1.0],\n",
       " 'PERDL': 0.03,\n",
       " 'RDRRTB': [0.0, 0.0, 1.5, 0.0, 1.51, 0.02, 2.0, 0.02],\n",
       " 'RDRSTB': [0.0, 0.0, 1.5, 0.0, 1.51, 0.02, 2.0, 0.02],\n",
       " 'CFET': 1.0,\n",
       " 'DEPNR': 5.0,\n",
       " 'IAIRDU': 0,\n",
       " 'IOX': 0,\n",
       " 'RDI': 10.0,\n",
       " 'RRI': 1.2,\n",
       " 'RDMCR': 120.0,\n",
       " 'NMAXLV_TB': [0.0,\n",
       "  0.06,\n",
       "  0.4,\n",
       "  0.04,\n",
       "  0.7,\n",
       "  0.035,\n",
       "  1.0,\n",
       "  0.03,\n",
       "  2.0,\n",
       "  0.0293,\n",
       "  2.1,\n",
       "  0.0293],\n",
       " 'NMAXRT_FR': 0.5,\n",
       " 'NMAXST_FR': 0.5,\n",
       " 'NMAXSO': 0.056,\n",
       " 'NCRIT_FR': 1.0,\n",
       " 'NRESIDLV': 0.00933,\n",
       " 'NRESIDST': 0.00467,\n",
       " 'NRESIDRT': 0.00467,\n",
       " 'TCNT': 10,\n",
       " 'NFIX_FR': 0.8,\n",
       " 'PMAXLV_TB': [0.0,\n",
       "  0.0142,\n",
       "  0.4,\n",
       "  0.0095,\n",
       "  0.7,\n",
       "  0.0083,\n",
       "  1.0,\n",
       "  0.0071,\n",
       "  2.0,\n",
       "  0.0069,\n",
       "  2.1,\n",
       "  0.0069],\n",
       " 'PMAXRT_FR': 0.5,\n",
       " 'PMAXST_FR': 0.5,\n",
       " 'PMAXSO': 0.0043,\n",
       " 'PCRIT_FR': 1.0,\n",
       " 'PRESIDLV': 0.00147,\n",
       " 'PRESIDST': 0.00073,\n",
       " 'PRESIDRT': 0.00073,\n",
       " 'TCPT': 10,\n",
       " 'KMAXLV_TB': [0.0,\n",
       "  0.0655,\n",
       "  0.4,\n",
       "  0.0436,\n",
       "  0.7,\n",
       "  0.0382,\n",
       "  1.0,\n",
       "  0.0327,\n",
       "  2.0,\n",
       "  0.032,\n",
       "  2.1,\n",
       "  0.032],\n",
       " 'KMAXRT_FR': 0.5,\n",
       " 'KMAXST_FR': 0.5,\n",
       " 'KMAXSO': 0.0192,\n",
       " 'KCRIT_FR': 1.0,\n",
       " 'KRESIDLV': 0.00933,\n",
       " 'KRESIDST': 0.00467,\n",
       " 'KRESIDRT': 0.00467,\n",
       " 'TCKT': 10,\n",
       " 'DVS_NPK_STOP': 1.5,\n",
       " 'DVS_NPK_TRANSL': 0.8,\n",
       " 'NLAI_NPK': 1.0,\n",
       " 'NSLA_NPK': 0.5,\n",
       " 'NPART': 1.0,\n",
       " 'NLUE_NPK': 1.1,\n",
       " 'NPK_TRANSLRT_FR': 0.5,\n",
       " 'RDRLV_NPK': 0.05}"
      ]
     },
     "execution_count": 21,
     "metadata": {},
     "output_type": "execute_result"
    }
   ],
   "source": [
    "params._cropdata"
   ]
  },
  {
   "cell_type": "markdown",
   "id": "9cdebcec-f35a-4ea1-afe1-4f060583128d",
   "metadata": {},
   "source": [
    "위처럼 원본 파라미터에 접근할 수 있습니다."
   ]
  },
  {
   "cell_type": "code",
   "execution_count": 22,
   "id": "ac9ef2c8-6f23-489b-9d2d-c774b373f9fa",
   "metadata": {},
   "outputs": [],
   "source": [
    "origin_value = {}\n",
    "for k in target_params:\n",
    "    v = params._cropdata[k]\n",
    "    origin_value[k] = v"
   ]
  },
  {
   "cell_type": "code",
   "execution_count": 23,
   "id": "05649821-ce39-4889-8b5c-7ef9221ede68",
   "metadata": {},
   "outputs": [
    {
     "data": {
      "text/plain": [
       "{'TSUM2': 1300,\n",
       " 'SPAN': 23.0,\n",
       " 'SLATB': [0.0, 0.0014, 0.45, 0.0025, 0.9, 0.0025, 2.0, 0.0007]}"
      ]
     },
     "execution_count": 23,
     "metadata": {},
     "output_type": "execute_result"
    }
   ],
   "source": [
    "origin_value"
   ]
  },
  {
   "cell_type": "markdown",
   "id": "25b0ee77-ee76-4eef-828d-acbe4692e435",
   "metadata": {},
   "source": [
    "최적화 완료 후 비교를 위해 목표 파라미터들의 원본값을 저장합니다."
   ]
  },
  {
   "cell_type": "markdown",
   "id": "4f81fd8f-dd46-425a-b7ae-b69e10cbacdd",
   "metadata": {},
   "source": [
    "## HyperOpt preparation"
   ]
  },
  {
   "cell_type": "code",
   "execution_count": 24,
   "id": "2669fb62-73f1-411e-8e64-e96bcc0a4482",
   "metadata": {},
   "outputs": [],
   "source": [
    "space = {}\n",
    "for p, r, in zip([_ for _ in target_params if not _.endswith('TB')], params_range):\n",
    "    space[p] = hp.uniform(p, r[0], r[1])\n",
    "for p, r, in zip([_ for _ in target_params if _.endswith('TB')], params_range_tb):\n",
    "    for i in range(r[2]):\n",
    "        space[f'{p}_{i}'] = hp.uniform(f'{p}_{i}', r[0], r[1])"
   ]
  },
  {
   "cell_type": "markdown",
   "id": "6e932912-3915-40e9-9e9a-e4a3b79f8cd5",
   "metadata": {},
   "source": [
    "HyperOpt를 사용하기 위해 목표 파라미터들의 공간을 정의합니다."
   ]
  },
  {
   "cell_type": "markdown",
   "id": "24f3201d-02d6-473d-9290-af6a4395ea8f",
   "metadata": {},
   "source": [
    "## Optimization process"
   ]
  },
  {
   "cell_type": "code",
   "execution_count": 25,
   "id": "5630583a-812a-4e14-bf9d-ba157ba83d92",
   "metadata": {},
   "outputs": [],
   "source": [
    "objfunc_calculator = ObjectiveFunctionCalculator(target_params, target_obj, params, wdp, agro, target_output)"
   ]
  },
  {
   "cell_type": "code",
   "execution_count": 26,
   "id": "afde2288-b3c8-4828-87d5-482533032359",
   "metadata": {},
   "outputs": [
    {
     "name": "stdout",
     "output_type": "stream",
     "text": [
      "100%|█████████| 50/50 [00:11<00:00,  4.31trial/s, best loss: 1.0760814904667868]\n"
     ]
    }
   ],
   "source": [
    "best = fmin(fn=objfunc_calculator, space=space, algo=tpe.suggest, max_evals=50)"
   ]
  },
  {
   "cell_type": "markdown",
   "id": "dd5cff9c-3e03-4861-b4f8-f2250cb41a3d",
   "metadata": {},
   "source": [
    "## Result"
   ]
  },
  {
   "cell_type": "code",
   "execution_count": 27,
   "id": "886f4098-3ecd-484f-a800-b6a23e34f0a7",
   "metadata": {},
   "outputs": [
    {
     "name": "stdout",
     "output_type": "stream",
     "text": [
      "<Calibration result>\n",
      "TSUM2: 1300 -> 3545.14\n",
      "SPAN: 23.0 -> 226.60\n",
      "SLATB: [0.0, 0.0014, 0.45, 0.0025, 0.9, 0.0025, 2.0, 0.0007] -> [0.0, 0.001, 0.5, 0.0045, 1.0, 0.0011, 1.5, 0.0026, 2.0, 0.0034]\n"
     ]
    }
   ],
   "source": [
    "print('<Calibration result>')\n",
    "for k in target_params:\n",
    "    if not k.endswith('TB'):\n",
    "        print(f'{k}: {origin_value[k]} -> {best[k]:.2f}')\n",
    "    else:\n",
    "        TARGET = [x for x in best.keys() if x.startswith(k)]\n",
    "        temp_list = []\n",
    "        for v1, v2 in zip(np.linspace(0.0, 2.0, len(TARGET)), [best[_] for _ in TARGET]):\n",
    "            temp_list.append(v1)\n",
    "            temp_list.append(v2)\n",
    "        print(f'{k}: {origin_value[k]} -> {[np.round(_, 4) for _ in temp_list]}')"
   ]
  },
  {
   "cell_type": "code",
   "execution_count": 28,
   "id": "f08c5e59-51a4-4703-b392-9405ac38247e",
   "metadata": {
    "tags": []
   },
   "outputs": [
    {
     "data": {
      "image/png": "[encoded data removed]",
      "text/plain": [
       "<Figure size 453.543x306.142 with 1 Axes>"
      ]
     },
     "metadata": {
      "needs_background": "light"
     },
     "output_type": "display_data"
    }
   ],
   "source": [
    "fig = plt.figure(figsize=((8/2.54*2), (6/2.54*1.8)))\n",
    "ax = plt.subplot()\n",
    "ax.spines['right'].set_visible(False)\n",
    "ax.spines['left'].set_position(('outward', 10))\n",
    "ax.spines['bottom'].set_position(('outward', 5))\n",
    "\n",
    "ax.plot(target_output.index, target_output.LAI, 'o', ms=5, mew=0.5, mec='k', c='k', label=\"Observation\")\n",
    "_ = objfunc_calculator(best)\n",
    "ax.plot(objfunc_calculator.df_sim.index, objfunc_calculator.df_sim.LAI, c=cmap[0], label=\"Optimized\")\n",
    "_ = objfunc_calculator(origin_value)\n",
    "ax.plot(objfunc_calculator.df_sim.index, objfunc_calculator.df_sim.LAI, \"--\", c='gray', label=\"Original\")\n",
    "\n",
    "ax.xaxis.set_major_formatter(mdates.DateFormatter('%b'))\n",
    "ax.xaxis.set_major_locator(LinearLocator(12))\n",
    "ax.yaxis.set_major_locator(LinearLocator(6))\n",
    "ax.yaxis.set_minor_locator(LinearLocator(11))\n",
    "ax.set_xlabel('Month')\n",
    "ax.set_ylabel('LAI')\n",
    "\n",
    "ax.legend(frameon=False, loc=0)\n",
    "fig.tight_layout()\n",
    "plt.show()"
   ]
  },
  {
   "cell_type": "markdown",
   "id": "e87c9b8e-3b19-4654-8d27-9cd004d1982d",
   "metadata": {},
   "source": [
    "기존 파라미터와 비해 줄어들지 않는 LAI를 비교적 잘 맞춘 것을 확인할 수 있습니다."
   ]
  },
  {
   "cell_type": "code",
   "execution_count": 29,
   "id": "8fe48935-ea96-4346-9439-fc1f564007c1",
   "metadata": {},
   "outputs": [],
   "source": [
    "compare_df = pd.read_csv(f'./data/pap_grw_RDA_open.csv', index_col='date')\n",
    "compare_df.index = pd.DatetimeIndex(compare_df.index)"
   ]
  },
  {
   "cell_type": "code",
   "execution_count": 30,
   "id": "006be479-375e-4279-9d7c-90492e55566b",
   "metadata": {
    "tags": []
   },
   "outputs": [
    {
     "data": {
      "image/png": "[encoded data removed]",
      "text/plain": [
       "<Figure size 453.543x306.142 with 1 Axes>"
      ]
     },
     "metadata": {
      "needs_background": "light"
     },
     "output_type": "display_data"
    }
   ],
   "source": [
    "# rerun with the best parameters found\n",
    "fig = plt.figure(figsize=((8/2.54*2), (6/2.54*1.8)))\n",
    "ax = plt.subplot()\n",
    "ax.spines['right'].set_visible(False)\n",
    "ax.spines['left'].set_position(('outward', 10))\n",
    "ax.spines['bottom'].set_position(('outward', 5))\n",
    "\n",
    "ax.plot(compare_df.index, compare_df.cum_harvest, 'o', ms=5, mew=0.5, mec='k', c='k', label=\"Observation\")\n",
    "_ = objfunc_calculator(best)\n",
    "ax.plot(objfunc_calculator.df_sim.index, objfunc_calculator.df_sim.TWSO, c=cmap[0], label=\"Optimized\")\n",
    "_ = objfunc_calculator(origin_value)\n",
    "ax.plot(objfunc_calculator.df_sim.index, objfunc_calculator.df_sim.TWSO, \"--\", c='gray', label=\"Original\")\n",
    "\n",
    "ax.xaxis.set_major_formatter(mdates.DateFormatter('%b'))\n",
    "ax.xaxis.set_major_locator(LinearLocator(12))\n",
    "ax.yaxis.set_major_locator(LinearLocator(6))\n",
    "ax.yaxis.set_minor_locator(LinearLocator(11))\n",
    "# ax.set_ybound(0, 5)\n",
    "ax.set_xlabel('Month')\n",
    "ax.set_ylabel('TWSO')\n",
    "\n",
    "ax.legend(frameon=False, loc=0)\n",
    "fig.tight_layout()\n",
    "plt.show()"
   ]
  },
  {
   "cell_type": "markdown",
   "id": "01d5a24c-c78a-4f68-88d9-f4bdba5f56be",
   "metadata": {},
   "source": [
    "그러나, LAI에 대해서만 최적화했기 때문에 다른 생육 지표(Total weight of storage organs)에 대해서는 잘 맞지 않게 됩니다."
   ]
  }
 ],
 "metadata": {
  "kernelspec": {
   "display_name": "pcse",
   "language": "python",
   "name": "pcse"
  },
  "language_info": {
   "codemirror_mode": {
    "name": "ipython",
    "version": 3
   },
   "file_extension": ".py",
   "mimetype": "text/x-python",
   "name": "python",
   "nbconvert_exporter": "python",
   "pygments_lexer": "ipython3",
   "version": "3.9.7"
  }
 },
 "nbformat": 4,
 "nbformat_minor": 5
}
